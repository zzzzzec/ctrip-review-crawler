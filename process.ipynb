{
 "cells": [
  {
   "cell_type": "code",
   "execution_count": 7,
   "id": "dee99824",
   "metadata": {},
   "outputs": [
    {
     "name": "stdout",
     "output_type": "stream",
     "text": [
      "Looking in indexes: https://pypi.tuna.tsinghua.edu.cn/simple\n",
      "Collecting tqdm\n",
      "  Downloading https://pypi.tuna.tsinghua.edu.cn/packages/d0/30/dc54f88dd4a2b5dc8a0279bdd7270e735851848b762aeb1c1184ed1f6b14/tqdm-4.67.1-py3-none-any.whl (78 kB)\n",
      "Requirement already satisfied: colorama in c:\\users\\zec\\appdata\\roaming\\python\\python312\\site-packages (from tqdm) (0.4.6)\n",
      "Installing collected packages: tqdm\n",
      "Successfully installed tqdm-4.67.1\n"
     ]
    }
   ],
   "source": [
    "!pip install tqdm"
   ]
  },
  {
   "cell_type": "code",
   "execution_count": 8,
   "id": "97766082",
   "metadata": {},
   "outputs": [
    {
     "name": "stdout",
     "output_type": "stream",
     "text": [
      "Loaded 3704 hotels from JSON file.\n"
     ]
    },
    {
     "name": "stderr",
     "output_type": "stream",
     "text": [
      " 67%|██████▋   | 2473/3704 [00:30<00:22, 54.81it/s] "
     ]
    },
    {
     "name": "stdout",
     "output_type": "stream",
     "text": [
      "Error processing hotel 2314855: list index out of range\n"
     ]
    },
    {
     "name": "stderr",
     "output_type": "stream",
     "text": [
      " 73%|███████▎  | 2697/3704 [00:33<00:20, 48.85it/s] "
     ]
    },
    {
     "name": "stdout",
     "output_type": "stream",
     "text": [
      "Error processing hotel 807041: list index out of range\n"
     ]
    },
    {
     "name": "stderr",
     "output_type": "stream",
     "text": [
      " 74%|███████▍  | 2750/3704 [00:35<00:25, 37.09it/s]"
     ]
    },
    {
     "name": "stdout",
     "output_type": "stream",
     "text": [
      "Error processing hotel 1544277: list index out of range\n"
     ]
    },
    {
     "name": "stderr",
     "output_type": "stream",
     "text": [
      " 79%|███████▉  | 2931/3704 [00:38<00:14, 53.08it/s]"
     ]
    },
    {
     "name": "stdout",
     "output_type": "stream",
     "text": [
      "Error processing hotel 6772781: list index out of range\n"
     ]
    },
    {
     "name": "stderr",
     "output_type": "stream",
     "text": [
      " 83%|████████▎ | 3072/3704 [00:41<00:10, 59.37it/s]"
     ]
    },
    {
     "name": "stdout",
     "output_type": "stream",
     "text": [
      "Error processing hotel 8922049: list index out of range\n"
     ]
    },
    {
     "name": "stderr",
     "output_type": "stream",
     "text": [
      " 84%|████████▍ | 3122/3704 [00:42<00:13, 42.96it/s]"
     ]
    },
    {
     "name": "stdout",
     "output_type": "stream",
     "text": [
      "Error processing hotel 932331: list index out of range\n"
     ]
    },
    {
     "name": "stderr",
     "output_type": "stream",
     "text": [
      " 87%|████████▋ | 3204/3704 [00:44<00:08, 56.55it/s]"
     ]
    },
    {
     "name": "stdout",
     "output_type": "stream",
     "text": [
      "Error processing hotel 6871202: list index out of range\n"
     ]
    },
    {
     "name": "stderr",
     "output_type": "stream",
     "text": [
      " 87%|████████▋ | 3234/3704 [00:45<00:07, 64.07it/s]"
     ]
    },
    {
     "name": "stdout",
     "output_type": "stream",
     "text": [
      "Error processing hotel 2377587: list index out of range\n"
     ]
    },
    {
     "name": "stderr",
     "output_type": "stream",
     "text": [
      " 90%|█████████ | 3349/3704 [00:48<00:10, 34.04it/s]"
     ]
    },
    {
     "name": "stdout",
     "output_type": "stream",
     "text": [
      "Error processing hotel 806590: list index out of range\n"
     ]
    },
    {
     "name": "stderr",
     "output_type": "stream",
     "text": [
      " 93%|█████████▎| 3440/3704 [00:49<00:03, 86.13it/s]"
     ]
    },
    {
     "name": "stdout",
     "output_type": "stream",
     "text": [
      "Error processing hotel 9197290: list index out of range\n",
      "Error processing hotel 1058016: list index out of range\n"
     ]
    },
    {
     "name": "stderr",
     "output_type": "stream",
     "text": [
      " 94%|█████████▍| 3479/3704 [00:50<00:03, 63.47it/s]"
     ]
    },
    {
     "name": "stdout",
     "output_type": "stream",
     "text": [
      "Error processing hotel 6873049: list index out of range\n"
     ]
    },
    {
     "name": "stderr",
     "output_type": "stream",
     "text": [
      " 97%|█████████▋| 3575/3704 [00:53<00:03, 39.23it/s]"
     ]
    },
    {
     "name": "stdout",
     "output_type": "stream",
     "text": [
      "Error processing hotel 1011936: list index out of range\n"
     ]
    },
    {
     "name": "stderr",
     "output_type": "stream",
     "text": [
      "100%|█████████▉| 3694/3704 [00:56<00:00, 42.57it/s]"
     ]
    },
    {
     "name": "stdout",
     "output_type": "stream",
     "text": [
      "Error processing hotel 1249542: list index out of range\n"
     ]
    },
    {
     "name": "stderr",
     "output_type": "stream",
     "text": [
      "100%|██████████| 3704/3704 [00:56<00:00, 65.63it/s]\n"
     ]
    }
   ],
   "source": [
    "import json\n",
    "import re\n",
    "import os\n",
    "\n",
    "def get_info1(dir, hotel_id):\n",
    "    with open(os.path.join(dir, str(hotel_id), f\"detail_{hotel_id}.json\"), 'r', encoding='utf-8') as f:\n",
    "        data = json.load(f)\n",
    "    # 酒店名称，星级，具体地址，房间数，开业时间，description\n",
    "    name = data['hotelInfo']['basic']['name']\n",
    "    kaiye = data['hotelInfo']['basic']['label'][0]\n",
    "    kaiye = kaiye.split('：')[-1] if '：' in kaiye else \"未知\"\n",
    "    kefangshu = data['hotelInfo']['basic']['label'][1]\n",
    "    kefangshu = kefangshu.split('：')[-1] if '：' in kefangshu else \"未知\"\n",
    "    try:\n",
    "        description = data['hotelInfo']['basic']['description']\n",
    "    except KeyError:\n",
    "        description = \"未知\"\n",
    "    with open(os.path.join(dir, str(hotel_id), f\"page_{hotel_id}.html\"), 'r', encoding='utf-8') as f:\n",
    "        text = f.read()\n",
    "    # 使用 re.search 查找第一个匹配项\n",
    "    match = re.search(r'<span class=\"detail-headline_position_text\">(.*?)</span>', text)\n",
    "    if match:\n",
    "        # group(0) 是整个匹配的字符串\n",
    "        # group(1) 是第一个捕获组的内容，也就是我们想要的地址\n",
    "        address = match.group(1)\n",
    "    else:\n",
    "        raise ValueError(\"未找到匹配的地址\")\n",
    "    return {\n",
    "        'hotel_id': hotel_id,\n",
    "        'name': name,\n",
    "        'kaiye': kaiye,\n",
    "        'kefangshu': kefangshu,\n",
    "        'description': description,\n",
    "        'address': address\n",
    "    }\n",
    "\n",
    "\n",
    "with open('D:\\\\Desktop\\\\xiecheng\\\\ctrip-review-crawler-master\\\\hotels_400_page.json', 'r', encoding='utf-8') as f:\n",
    "    hotels_dict = json.load(f)\n",
    "print(f\"Loaded {len(hotels_dict)} hotels from JSON file.\")\n",
    "base = 'D:\\\\Desktop\\\\xiecheng\\\\data'\n",
    "infos = []\n",
    "from tqdm import tqdm\n",
    "for hotel_id, hotel_data in tqdm(hotels_dict.items()):\n",
    "    # path = os.path.join(base, str(hotel_id))\n",
    "    try:\n",
    "        info = get_info1(base, hotel_id)\n",
    "        info.update({\n",
    "            'hotelStar': hotel_data.get('hotelStar', 0),\n",
    "        })\n",
    "    except Exception as e:\n",
    "        print(f\"Error processing hotel {hotel_id}: {e}\")\n",
    "        continue\n",
    "    infos.append(info)\n",
    "    # print(hotel_id, info)\n",
    "    # break"
   ]
  },
  {
   "cell_type": "code",
   "execution_count": 9,
   "id": "47adb754",
   "metadata": {},
   "outputs": [
    {
     "data": {
      "text/plain": [
       "3690"
      ]
     },
     "execution_count": 9,
     "metadata": {},
     "output_type": "execute_result"
    }
   ],
   "source": [
    "len(infos)"
   ]
  },
  {
   "cell_type": "code",
   "execution_count": null,
   "id": "d5cbe772",
   "metadata": {},
   "outputs": [],
   "source": [
    "# infos 转为 csv\n",
    "import pandas as pd\n",
    "df = pd.DataFrame(infos)\n",
    "# df.to_csv('D:\\\\Desktop\\\\xiecheng\\\\hotel_infos.csv', index=False, encoding='utf-8')\n",
    "# for excel 乱码问题\n",
    "df.to_csv('D:\\\\Desktop\\\\xiecheng\\\\hotel_infos.csv', index=False, encoding='utf-8-sig')"
   ]
  },
  {
   "cell_type": "code",
   "execution_count": null,
   "id": "3edde979",
   "metadata": {},
   "outputs": [],
   "source": []
  }
 ],
 "metadata": {
  "kernelspec": {
   "display_name": "ml",
   "language": "python",
   "name": "python3"
  },
  "language_info": {
   "codemirror_mode": {
    "name": "ipython",
    "version": 3
   },
   "file_extension": ".py",
   "mimetype": "text/x-python",
   "name": "python",
   "nbconvert_exporter": "python",
   "pygments_lexer": "ipython3",
   "version": "3.12.4"
  }
 },
 "nbformat": 4,
 "nbformat_minor": 5
}
